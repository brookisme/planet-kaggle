{
 "cells": [
  {
   "cell_type": "markdown",
   "metadata": {},
   "source": [
    "# Some notes on f2-score.\n"
   ]
  },
  {
   "cell_type": "markdown",
   "metadata": {},
   "source": [
    "It seems that the sklearn method fbeta_score should take the argument average='binary'\n",
    "in order to agree with the formula on Kaggle\n",
    "https://www.kaggle.com/c/planet-understanding-the-amazon-from-space#evaluation\n"
   ]
  },
  {
   "cell_type": "code",
   "execution_count": 13,
   "metadata": {
    "collapsed": true
   },
   "outputs": [],
   "source": [
    "from sklearn.metrics import fbeta_score\n",
    "import numpy as npumpy as np"
   ]
  },
  {
   "cell_type": "code",
   "execution_count": 122,
   "metadata": {
    "collapsed": true
   },
   "outputs": [],
   "source": [
    "def truepos(y_true, y_pred):\n",
    "    return sum([pred*int(eq) for (pred,eq) in zip(y_pred,np.equal(y_true, y_pred))])\n",
    "\n",
    "def falsepos(y_true, y_pred):\n",
    "    return sum([pred*int(not eq) for (pred,eq) in zip(y_pred,np.equal(y_true, y_pred))])\n",
    "\n",
    "def totalpos(y_true, y_pred):\n",
    "    \"\"\"this is the total number of 1's in y_true\"\"\"\n",
    "    return np.nonzero(y_true)[0].size # all postive values in y_true\n",
    "\n",
    "\n",
    "def precision(y_true, y_pred):\n",
    "        tp=truepos(y_true, y_pred)\n",
    "        fp=falsepos(y_true, y_pred)\n",
    "        return tp/(tp+fp)\n",
    "\n",
    "def recall(y_true, y_pred):\n",
    "        tp=truepos(y_true, y_pred)\n",
    "        pos=totalpos(y_true, y_pred)\n",
    "        return tp/pos\n",
    "\n",
    "def f2_score_Nick(y_true, y_pred,beta):\n",
    "    \"\"\"y_true and y_pred can be lists or numpy arrays but must\n",
    "    have binary entries\"\"\"\n",
    "    if set(y_true) in [{0},{0,1},{1}] and set(y_pred) in [{0},{0,1},{1}]\\\n",
    "    and np.array(y_true).size==np.array(y_pred).size:\n",
    "        prc=precision(y_true, y_pred)\n",
    "        rec=recall(y_true, y_pred)\n",
    "        return (1+beta**2)*prc*rec/(beta**2*prc+ rec)\n",
    "    else:\n",
    "        print(\"Error: Input must contain two binary valued arrays of equal length\")\n"
   ]
  },
  {
   "cell_type": "code",
   "execution_count": null,
   "metadata": {
    "collapsed": true
   },
   "outputs": [],
   "source": [
    "x_true=[1,1,1,1,1,1]\n",
    "x_pred=[1,1,0,1,0,0]\n",
    "print(truepos(x_true, x_pred))\n",
    "print(falsepos(x_true, x_pred))\n",
    "print(totalpos(x_true, x_pred))"
   ]
  },
  {
   "cell_type": "code",
   "execution_count": 128,
   "metadata": {
    "collapsed": false
   },
   "outputs": [
    {
     "name": "stdout",
     "output_type": "stream",
     "text": [
      "0.8333333333333334\n",
      "0.6\n",
      "0.608974358974\n",
      "0.833333333333\n"
     ]
    }
   ],
   "source": [
    "y_true = [1, 0, 0, 1,0]\n",
    "y_pred = [1, 0, 1, 1,1]\n",
    " \n",
    "print(f2_score_Nick(y_true, y_pred,2))\n",
    "\n",
    "print(fbeta_score(y_true, y_pred, average='micro', beta=2))\n",
    "print(fbeta_score(y_true, y_pred, average='macro', beta=2))\n",
    "print(fbeta_score(y_true, y_pred, average='binary', beta=2))"
   ]
  }
 ],
 "metadata": {
  "kernelspec": {
   "display_name": "Python 3",
   "language": "python",
   "name": "python3"
  },
  "language_info": {
   "codemirror_mode": {
    "name": "ipython",
    "version": 3
   },
   "file_extension": ".py",
   "mimetype": "text/x-python",
   "name": "python",
   "nbconvert_exporter": "python",
   "pygments_lexer": "ipython3",
   "version": "3.6.0"
  }
 },
 "nbformat": 4,
 "nbformat_minor": 2
}
