{
 "cells": [
  {
   "cell_type": "code",
   "execution_count": null,
   "metadata": {},
   "outputs": [],
   "source": [
    "import sys\n",
    "\n",
    "# REPO_PATH is the local git directory\n",
    "REPO_PATH='/Users/Halmagyi/Documents/Programming/Python/ML/Kaggle/Planet/planet-kaggle'\n",
    "sys.path.append(REPO_PATH)\n",
    "\n",
    "import os\n",
    "import numpy as np\n",
    "import pandas as pd\n",
    "from importlib import reload\n",
    "import utils\n",
    "from keras import backend as K\n",
    "\n",
    "from skimage import io\n",
    "\n",
    "import matplotlib.pyplot as plt\n",
    "%matplotlib inline\n",
    "\n",
    "DATA_ROOT=os.environ.get('DATA')\n",
    "DATA_DIR='planet'\n",
    "ROOT=f'{DATA_ROOT}/{DATA_DIR}'\n",
    "\n",
    "WEIGHT_ROOT=os.environ.get('WEIGHTS')\n",
    "WEIGHT_DIR='planet'\n",
    "W_DIR=f'{WEIGHT_ROOT}/{WEIGHT_DIR}'"
   ]
  },
  {
   "cell_type": "code",
   "execution_count": 2,
   "metadata": {},
   "outputs": [
    {
     "data": {
      "text/plain": [
       "<module 'models.base' from '/Users/Halmagyi/Documents/Programming/Python/ML/Kaggle/Planet/planet-kaggle/models/base.py'>"
      ]
     },
     "execution_count": 2,
     "metadata": {},
     "output_type": "execute_result"
    }
   ],
   "source": [
    "# Here we import the py files for current project.\n",
    "import utils\n",
    "import models.vgglike as vl\n",
    "import models.ekami as ek\n",
    "import models.base as base\n",
    "import helpers.planet as helpers\n",
    "import helpers.dfgen as gen\n",
    "# from helpers.planet import PlanetData\n",
    "\n",
    "reload(utils)\n",
    "reload(vl)\n",
    "reload(ek)\n",
    "reload(helpers)\n",
    "reload(gen)\n",
    "reload(base)"
   ]
  },
  {
   "cell_type": "code",
   "execution_count": 3,
   "metadata": {
    "collapsed": true
   },
   "outputs": [],
   "source": [
    "DATA_ROOT=os.environ.get('DATA')\n",
    "DATA_DIR='planet'\n",
    "WEIGHT_ROOT=os.environ.get('WEIGHTS')\n",
    "IMG_TYPE='tif'\n",
    "ROOT=f'{DATA_ROOT}/{DATA_DIR}'\n",
    "WEIGHT_DIR=f'{WEIGHT_ROOT}/{DATA_DIR}' # Weights are saved and loaded here\n",
    "JPG_DIR = os.path.join(ROOT, 'train-jpg')\n",
    "TIF_DIR = os.path.join(ROOT, 'train-tif')"
   ]
  },
  {
   "cell_type": "code",
   "execution_count": 4,
   "metadata": {
    "code_folding": [
     0
    ],
    "collapsed": true
   },
   "outputs": [],
   "source": [
    "TAGS=[\n",
    "    'primary',\n",
    "    'clear',\n",
    "    'agriculture',\n",
    "    'road',\n",
    "    'water',\n",
    "    'partly_cloudy',\n",
    "    'cultivation',\n",
    "    'habitation',\n",
    "    'haze',\n",
    "    'cloudy',\n",
    "    'bare_ground',\n",
    "    'selective_logging',\n",
    "    'artisinal_mine',\n",
    "    'blooming',\n",
    "    'slash_burn',\n",
    "    'conventional_mine',\n",
    "    'blow_down']"
   ]
  },
  {
   "cell_type": "markdown",
   "metadata": {},
   "source": [
    "# Create  or import dataframe for sample"
   ]
  },
  {
   "cell_type": "code",
   "execution_count": null,
   "metadata": {
    "collapsed": true
   },
   "outputs": [],
   "source": [
    "pld200=helpers.PlanetData(train_size=200,create=True)"
   ]
  },
  {
   "cell_type": "code",
   "execution_count": null,
   "metadata": {
    "collapsed": true
   },
   "outputs": [],
   "source": [
    "pld80tag1=helpers.PlanetData(train_size=80,tags=['agriculture','primary'],create=True)"
   ]
  },
  {
   "cell_type": "code",
   "execution_count": null,
   "metadata": {
    "collapsed": true
   },
   "outputs": [],
   "source": [
    "pld80tag1.train_df[:10]"
   ]
  },
  {
   "cell_type": "code",
   "execution_count": null,
   "metadata": {
    "collapsed": true
   },
   "outputs": [],
   "source": [
    "pld80tag1.train_size,pld80tag1.valid_size"
   ]
  },
  {
   "cell_type": "markdown",
   "metadata": {},
   "source": [
    "# Ekami Model: modified VGG"
   ]
  },
  {
   "cell_type": "code",
   "execution_count": 5,
   "metadata": {
    "collapsed": true
   },
   "outputs": [],
   "source": [
    "ek_bc_td1=ek.EKAMI(loss_func='binary_crossentropy',target_dim=1,metrics=['accuracy',utils.k_f2])"
   ]
  },
  {
   "cell_type": "markdown",
   "metadata": {
    "collapsed": true
   },
   "source": [
    "# Primary Rainforest"
   ]
  },
  {
   "cell_type": "code",
   "execution_count": 6,
   "metadata": {
    "collapsed": true
   },
   "outputs": [],
   "source": [
    "pld200_pr=helpers.PlanetData(train_size=200,tags=['primary'],create=True)"
   ]
  },
  {
   "cell_type": "code",
   "execution_count": 7,
   "metadata": {},
   "outputs": [
    {
     "name": "stdout",
     "output_type": "stream",
     "text": [
      "start with batch norm... (None, 256, 256, 4)\n",
      "Epoch 1/1\n",
      "200/200 [==============================] - 1032s - loss: 0.1910 - acc: 0.9341 - k_f2: 0.9801 - val_loss: 0.2627 - val_acc: 0.9128 - val_k_f2: 0.9793\n"
     ]
    },
    {
     "data": {
      "text/plain": [
       "<keras.callbacks.History at 0x12446beb8>"
      ]
     },
     "execution_count": 7,
     "metadata": {},
     "output_type": "execute_result"
    }
   ],
   "source": [
    "ek_bc_td1.fit_gen(epochs=1,pdata=pld200_pr)"
   ]
  },
  {
   "cell_type": "code",
   "execution_count": 8,
   "metadata": {
    "collapsed": true
   },
   "outputs": [],
   "source": [
    "ek_bc_td1.save_weights(pdata=pld200_pr)"
   ]
  },
  {
   "cell_type": "code",
   "execution_count": null,
   "metadata": {
    "collapsed": true
   },
   "outputs": [],
   "source": [
    "ek_bc_td1.predict_image(name='train_17463',image_dir='train-tif',file_ext='tif')"
   ]
  },
  {
   "cell_type": "code",
   "execution_count": null,
   "metadata": {
    "collapsed": true
   },
   "outputs": [],
   "source": [
    "ek_bc_td1.predict_image(name='train_23725',image_dir='train-tif',file_ext='tif')"
   ]
  },
  {
   "cell_type": "code",
   "execution_count": null,
   "metadata": {
    "collapsed": true
   },
   "outputs": [],
   "source": [
    "pld200tag1.train_df['prediction']=pld200tag1.train_df.image_name.apply(lambda x: ek_bc_td1.predict_image(name=x,image_dir='train-tif',file_ext='tif'))"
   ]
  },
  {
   "cell_type": "code",
   "execution_count": null,
   "metadata": {
    "collapsed": true
   },
   "outputs": [],
   "source": [
    "pld200tag1.train_df[:100]"
   ]
  },
  {
   "cell_type": "code",
   "execution_count": null,
   "metadata": {
    "collapsed": true
   },
   "outputs": [],
   "source": [
    "ek_bc_td1._weight_path(pdata=pld200tag1)"
   ]
  },
  {
   "cell_type": "code",
   "execution_count": null,
   "metadata": {
    "collapsed": true
   },
   "outputs": [],
   "source": [
    "os.path.isdir(ek_bc_td1._weight_path(pdata=pld200tag1))"
   ]
  },
  {
   "cell_type": "code",
   "execution_count": null,
   "metadata": {},
   "outputs": [],
   "source": [
    "ek_bc_td1.save_weights(pdata=pld80_pr)"
   ]
  },
  {
   "cell_type": "code",
   "execution_count": null,
   "metadata": {
    "collapsed": true
   },
   "outputs": [],
   "source": []
  }
 ],
 "metadata": {
  "kernelspec": {
   "display_name": "Python 3",
   "language": "python",
   "name": "python3"
  },
  "language_info": {
   "codemirror_mode": {
    "name": "ipython",
    "version": 3
   },
   "file_extension": ".py",
   "mimetype": "text/x-python",
   "name": "python",
   "nbconvert_exporter": "python",
   "pygments_lexer": "ipython3",
   "version": "3.6.0"
  }
 },
 "nbformat": 4,
 "nbformat_minor": 2
}
