{
 "cells": [
  {
   "cell_type": "markdown",
   "metadata": {},
   "source": [
    "# Initialize notebook"
   ]
  },
  {
   "cell_type": "code",
   "execution_count": 1,
   "metadata": {},
   "outputs": [
    {
     "name": "stderr",
     "output_type": "stream",
     "text": [
      "Using TensorFlow backend.\n"
     ]
    }
   ],
   "source": [
    "import sys\n",
    "\n",
    "# REPO_PATH is the local git directory\n",
    "REPO_PATH='/Users/Halmagyi/Documents/Programming/Python/ML/Kaggle/Planet/planet-kaggle'\n",
    "sys.path.append(REPO_PATH)\n",
    "\n",
    "import os\n",
    "import numpy as np\n",
    "import pandas as pd\n",
    "from importlib import reload\n",
    "import utils\n",
    "from keras import backend as K\n",
    "from keras import metrics\n",
    "\n",
    "from skimage import io\n",
    "\n",
    "import matplotlib.pyplot as plt\n",
    "%matplotlib inline\n",
    "\n",
    "# Here we import the py files for current project.\n",
    "import utils\n",
    "import models.vgglike as vl\n",
    "import models.ekami as ek\n",
    "import models.aframe as aframe\n",
    "import models.base as base\n",
    "import helpers.planet as helpers\n",
    "import helpers.dfgen as gen\n",
    "# from helpers.planet import PlanetData\n",
    "\n",
    "reload(utils)\n",
    "reload(vl)\n",
    "reload(ek)\n",
    "reload(helpers)\n",
    "reload(gen)\n",
    "reload(base)\n",
    "reload(aframe)\n",
    "\n",
    "DATA_ROOT=os.environ.get('DATA')\n",
    "DATA_DIR='planet'\n",
    "WEIGHT_ROOT=os.environ.get('WEIGHTS')\n",
    "IMG_TYPE='tif'\n",
    "ROOT=f'{DATA_ROOT}/{DATA_DIR}'\n",
    "WEIGHT_DIR=f'{WEIGHT_ROOT}/{DATA_DIR}' # Weights are saved and loaded here\n",
    "JPG_DIR = os.path.join(ROOT, 'train-jpg')\n",
    "TIF_DIR = os.path.join(ROOT, 'train-tif')"
   ]
  },
  {
   "cell_type": "code",
   "execution_count": 2,
   "metadata": {
    "code_folding": [
     0
    ],
    "collapsed": true
   },
   "outputs": [],
   "source": [
    "TAGS=[\n",
    "    'primary',\n",
    "    'clear',\n",
    "    'agriculture',\n",
    "    'road',\n",
    "    'water',\n",
    "    'partly_cloudy',\n",
    "    'cultivation',\n",
    "    'habitation',\n",
    "    'haze',\n",
    "    'cloudy',\n",
    "    'bare_ground',\n",
    "    'selective_logging',\n",
    "    'artisinal_mine',\n",
    "    'blooming',\n",
    "    'slash_burn',\n",
    "    'conventional_mine',\n",
    "    'blow_down']"
   ]
  },
  {
   "cell_type": "markdown",
   "metadata": {
    "heading_collapsed": true
   },
   "source": [
    "# Create  or import dataframe for sample"
   ]
  },
  {
   "cell_type": "code",
   "execution_count": null,
   "metadata": {
    "collapsed": true,
    "hidden": true
   },
   "outputs": [],
   "source": [
    "pld200=helpers.PlanetData(train_size=200,create=True)"
   ]
  },
  {
   "cell_type": "code",
   "execution_count": null,
   "metadata": {
    "collapsed": true,
    "hidden": true
   },
   "outputs": [],
   "source": [
    "pld80tag1=helpers.PlanetData(train_size=80,tags=['agriculture','primary'],create=True)"
   ]
  },
  {
   "cell_type": "code",
   "execution_count": null,
   "metadata": {
    "collapsed": true,
    "hidden": true
   },
   "outputs": [],
   "source": [
    "pld80tag1.train_df[:10]"
   ]
  },
  {
   "cell_type": "code",
   "execution_count": null,
   "metadata": {
    "collapsed": true,
    "hidden": true
   },
   "outputs": [],
   "source": [
    "pld80tag1.train_size,pld80tag1.valid_size"
   ]
  },
  {
   "cell_type": "markdown",
   "metadata": {},
   "source": [
    "# Ekami Model: modified VGG"
   ]
  },
  {
   "cell_type": "code",
   "execution_count": 5,
   "metadata": {
    "collapsed": true
   },
   "outputs": [],
   "source": [
    "ek_bc_td1=ek.EKAMI(loss_func='binary_crossentropy',target_dim=1,metrics=['accuracy',utils.k_f2])"
   ]
  },
  {
   "cell_type": "markdown",
   "metadata": {},
   "source": [
    "# Flex model: very flexible CNN"
   ]
  },
  {
   "cell_type": "code",
   "execution_count": 4,
   "metadata": {
    "collapsed": true
   },
   "outputs": [],
   "source": [
    "af_td1=aframe.Flex(loss_func='binary_crossentropy',target_dim=1,metrics=['accuracy',utils.k_f2])"
   ]
  },
  {
   "cell_type": "markdown",
   "metadata": {
    "collapsed": true
   },
   "source": [
    "# Primary Rainforest"
   ]
  },
  {
   "cell_type": "code",
   "execution_count": 5,
   "metadata": {
    "collapsed": true
   },
   "outputs": [],
   "source": [
    "pld200_pr=helpers.PlanetData(train_size=200,tags=['primary'],create=True)"
   ]
  },
  {
   "cell_type": "code",
   "execution_count": null,
   "metadata": {
    "collapsed": true
   },
   "outputs": [],
   "source": [
    "ek_bc_td1.fit_gen(epochs=1,pdata=pld200_pr)"
   ]
  },
  {
   "cell_type": "code",
   "execution_count": 6,
   "metadata": {},
   "outputs": [
    {
     "name": "stdout",
     "output_type": "stream",
     "text": [
      "Epoch 1/1\n",
      "200/200 [==============================] - 1140s - loss: 0.2246 - acc: 0.9489 - k_f2: 0.9840 - val_loss: 0.3569 - val_acc: 0.9797 - val_k_f2: 0.9954\n"
     ]
    },
    {
     "data": {
      "text/plain": [
       "<keras.callbacks.History at 0x122886c50>"
      ]
     },
     "execution_count": 6,
     "metadata": {},
     "output_type": "execute_result"
    }
   ],
   "source": [
    "# training sample using flex model\n",
    "af_td1.fit_gen(epochs=1,pdata=pld200_pr)"
   ]
  },
  {
   "cell_type": "code",
   "execution_count": 8,
   "metadata": {
    "collapsed": true
   },
   "outputs": [],
   "source": [
    "ek_bc_td1.save_weights(pdata=pld200_pr)"
   ]
  },
  {
   "cell_type": "code",
   "execution_count": null,
   "metadata": {
    "collapsed": true
   },
   "outputs": [],
   "source": [
    "ek_bc_td1.predict_image(name='train_17463',image_dir='train-tif',file_ext='tif')"
   ]
  },
  {
   "cell_type": "code",
   "execution_count": null,
   "metadata": {
    "collapsed": true
   },
   "outputs": [],
   "source": [
    "ek_bc_td1.predict_image(name='train_23725',image_dir='train-tif',file_ext='tif')"
   ]
  },
  {
   "cell_type": "code",
   "execution_count": null,
   "metadata": {
    "collapsed": true
   },
   "outputs": [],
   "source": [
    "pld200tag1.train_df['prediction']=pld200tag1.train_df.image_name.apply(lambda x: ek_bc_td1.predict_image(name=x,image_dir='train-tif',file_ext='tif'))"
   ]
  },
  {
   "cell_type": "code",
   "execution_count": null,
   "metadata": {
    "collapsed": true
   },
   "outputs": [],
   "source": [
    "pld200tag1.train_df[:100]"
   ]
  },
  {
   "cell_type": "code",
   "execution_count": null,
   "metadata": {
    "collapsed": true
   },
   "outputs": [],
   "source": [
    "ek_bc_td1._weight_path(pdata=pld200tag1)"
   ]
  },
  {
   "cell_type": "code",
   "execution_count": null,
   "metadata": {
    "collapsed": true
   },
   "outputs": [],
   "source": [
    "os.path.isdir(ek_bc_td1._weight_path(pdata=pld200tag1))"
   ]
  },
  {
   "cell_type": "code",
   "execution_count": null,
   "metadata": {
    "collapsed": true
   },
   "outputs": [],
   "source": [
    "ek_bc_td1.save_weights(pdata=pld80_pr)"
   ]
  },
  {
   "cell_type": "markdown",
   "metadata": {
    "collapsed": true
   },
   "source": [
    "# Weather label predicitions"
   ]
  },
  {
   "cell_type": "markdown",
   "metadata": {},
   "source": [
    "The weather labels should be mutually exclusive.\n",
    "In the training data I find 40479 images and 40478 have weather labels. So only one is missing."
   ]
  },
  {
   "cell_type": "code",
   "execution_count": 3,
   "metadata": {
    "collapsed": true
   },
   "outputs": [],
   "source": [
    "WEATHER_LABELS=['clear','partly_cloudy','haze','cloudy'] "
   ]
  },
  {
   "cell_type": "code",
   "execution_count": 4,
   "metadata": {
    "collapsed": true
   },
   "outputs": [],
   "source": [
    "pld200_weather=helpers.PlanetData(train_size=200,tags=WEATHER_LABELS,create=True)"
   ]
  },
  {
   "cell_type": "code",
   "execution_count": 5,
   "metadata": {
    "collapsed": true
   },
   "outputs": [],
   "source": [
    "flex_weather=aframe.Flex(loss_func='categorical_crossentropy',output_activation='softmax',target_dim=4,metrics=['accuracy'])"
   ]
  },
  {
   "cell_type": "code",
   "execution_count": null,
   "metadata": {},
   "outputs": [
    {
     "name": "stdout",
     "output_type": "stream",
     "text": [
      "Epoch 1/1\n",
      "110/200 [===============>..............] - ETA: 452s - loss: 0.8934 - acc: 0.6759"
     ]
    }
   ],
   "source": [
    "flex_weather.fit_gen(epochs=1,pdata=pld200_weather)"
   ]
  },
  {
   "cell_type": "code",
   "execution_count": 23,
   "metadata": {},
   "outputs": [
    {
     "data": {
      "text/html": [
       "<div>\n",
       "<table border=\"1\" class=\"dataframe\">\n",
       "  <thead>\n",
       "    <tr style=\"text-align: right;\">\n",
       "      <th></th>\n",
       "      <th>image_name</th>\n",
       "      <th>tags</th>\n",
       "      <th>vec</th>\n",
       "    </tr>\n",
       "  </thead>\n",
       "  <tbody>\n",
       "    <tr>\n",
       "      <th>19055</th>\n",
       "      <td>train_19055</td>\n",
       "      <td>clear</td>\n",
       "      <td>[1, 0, 0, 0]</td>\n",
       "    </tr>\n",
       "    <tr>\n",
       "      <th>26616</th>\n",
       "      <td>train_26616</td>\n",
       "      <td>clear</td>\n",
       "      <td>[1, 0, 0, 0]</td>\n",
       "    </tr>\n",
       "    <tr>\n",
       "      <th>699</th>\n",
       "      <td>train_699</td>\n",
       "      <td>clear</td>\n",
       "      <td>[1, 0, 0, 0]</td>\n",
       "    </tr>\n",
       "    <tr>\n",
       "      <th>34523</th>\n",
       "      <td>train_34523</td>\n",
       "      <td>clear</td>\n",
       "      <td>[1, 0, 0, 0]</td>\n",
       "    </tr>\n",
       "    <tr>\n",
       "      <th>33034</th>\n",
       "      <td>train_33034</td>\n",
       "      <td>clear</td>\n",
       "      <td>[1, 0, 0, 0]</td>\n",
       "    </tr>\n",
       "    <tr>\n",
       "      <th>10834</th>\n",
       "      <td>train_10834</td>\n",
       "      <td>haze</td>\n",
       "      <td>[0, 0, 1, 0]</td>\n",
       "    </tr>\n",
       "    <tr>\n",
       "      <th>39337</th>\n",
       "      <td>train_39337</td>\n",
       "      <td>clear</td>\n",
       "      <td>[1, 0, 0, 0]</td>\n",
       "    </tr>\n",
       "    <tr>\n",
       "      <th>28127</th>\n",
       "      <td>train_28127</td>\n",
       "      <td>clear</td>\n",
       "      <td>[1, 0, 0, 0]</td>\n",
       "    </tr>\n",
       "    <tr>\n",
       "      <th>12584</th>\n",
       "      <td>train_12584</td>\n",
       "      <td>clear</td>\n",
       "      <td>[1, 0, 0, 0]</td>\n",
       "    </tr>\n",
       "    <tr>\n",
       "      <th>1815</th>\n",
       "      <td>train_1815</td>\n",
       "      <td>clear</td>\n",
       "      <td>[1, 0, 0, 0]</td>\n",
       "    </tr>\n",
       "    <tr>\n",
       "      <th>29065</th>\n",
       "      <td>train_29065</td>\n",
       "      <td>clear</td>\n",
       "      <td>[1, 0, 0, 0]</td>\n",
       "    </tr>\n",
       "    <tr>\n",
       "      <th>39896</th>\n",
       "      <td>train_39896</td>\n",
       "      <td>clear</td>\n",
       "      <td>[1, 0, 0, 0]</td>\n",
       "    </tr>\n",
       "    <tr>\n",
       "      <th>8241</th>\n",
       "      <td>train_8241</td>\n",
       "      <td>haze</td>\n",
       "      <td>[0, 0, 1, 0]</td>\n",
       "    </tr>\n",
       "    <tr>\n",
       "      <th>16730</th>\n",
       "      <td>train_16730</td>\n",
       "      <td>clear</td>\n",
       "      <td>[1, 0, 0, 0]</td>\n",
       "    </tr>\n",
       "    <tr>\n",
       "      <th>39296</th>\n",
       "      <td>train_39296</td>\n",
       "      <td>clear</td>\n",
       "      <td>[1, 0, 0, 0]</td>\n",
       "    </tr>\n",
       "    <tr>\n",
       "      <th>12658</th>\n",
       "      <td>train_12658</td>\n",
       "      <td>clear</td>\n",
       "      <td>[1, 0, 0, 0]</td>\n",
       "    </tr>\n",
       "    <tr>\n",
       "      <th>20842</th>\n",
       "      <td>train_20842</td>\n",
       "      <td>clear</td>\n",
       "      <td>[1, 0, 0, 0]</td>\n",
       "    </tr>\n",
       "    <tr>\n",
       "      <th>34801</th>\n",
       "      <td>train_34801</td>\n",
       "      <td>clear</td>\n",
       "      <td>[1, 0, 0, 0]</td>\n",
       "    </tr>\n",
       "    <tr>\n",
       "      <th>34434</th>\n",
       "      <td>train_34434</td>\n",
       "      <td>clear</td>\n",
       "      <td>[1, 0, 0, 0]</td>\n",
       "    </tr>\n",
       "    <tr>\n",
       "      <th>40408</th>\n",
       "      <td>train_40408</td>\n",
       "      <td>clear</td>\n",
       "      <td>[1, 0, 0, 0]</td>\n",
       "    </tr>\n",
       "    <tr>\n",
       "      <th>28137</th>\n",
       "      <td>train_28137</td>\n",
       "      <td>clear</td>\n",
       "      <td>[1, 0, 0, 0]</td>\n",
       "    </tr>\n",
       "    <tr>\n",
       "      <th>22095</th>\n",
       "      <td>train_22095</td>\n",
       "      <td>clear</td>\n",
       "      <td>[1, 0, 0, 0]</td>\n",
       "    </tr>\n",
       "    <tr>\n",
       "      <th>17152</th>\n",
       "      <td>train_17152</td>\n",
       "      <td>clear</td>\n",
       "      <td>[1, 0, 0, 0]</td>\n",
       "    </tr>\n",
       "    <tr>\n",
       "      <th>23404</th>\n",
       "      <td>train_23404</td>\n",
       "      <td>partly_cloudy</td>\n",
       "      <td>[0, 1, 0, 0]</td>\n",
       "    </tr>\n",
       "    <tr>\n",
       "      <th>4841</th>\n",
       "      <td>train_4841</td>\n",
       "      <td>clear</td>\n",
       "      <td>[1, 0, 0, 0]</td>\n",
       "    </tr>\n",
       "    <tr>\n",
       "      <th>6878</th>\n",
       "      <td>train_6878</td>\n",
       "      <td>partly_cloudy</td>\n",
       "      <td>[0, 1, 0, 0]</td>\n",
       "    </tr>\n",
       "    <tr>\n",
       "      <th>26392</th>\n",
       "      <td>train_26392</td>\n",
       "      <td>partly_cloudy</td>\n",
       "      <td>[0, 1, 0, 0]</td>\n",
       "    </tr>\n",
       "    <tr>\n",
       "      <th>28472</th>\n",
       "      <td>train_28472</td>\n",
       "      <td>clear</td>\n",
       "      <td>[1, 0, 0, 0]</td>\n",
       "    </tr>\n",
       "    <tr>\n",
       "      <th>24266</th>\n",
       "      <td>train_24266</td>\n",
       "      <td>clear</td>\n",
       "      <td>[1, 0, 0, 0]</td>\n",
       "    </tr>\n",
       "    <tr>\n",
       "      <th>36300</th>\n",
       "      <td>train_36300</td>\n",
       "      <td>haze</td>\n",
       "      <td>[0, 0, 1, 0]</td>\n",
       "    </tr>\n",
       "    <tr>\n",
       "      <th>...</th>\n",
       "      <td>...</td>\n",
       "      <td>...</td>\n",
       "      <td>...</td>\n",
       "    </tr>\n",
       "    <tr>\n",
       "      <th>23415</th>\n",
       "      <td>train_23415</td>\n",
       "      <td>clear</td>\n",
       "      <td>[1, 0, 0, 0]</td>\n",
       "    </tr>\n",
       "    <tr>\n",
       "      <th>24068</th>\n",
       "      <td>train_24068</td>\n",
       "      <td>clear</td>\n",
       "      <td>[1, 0, 0, 0]</td>\n",
       "    </tr>\n",
       "    <tr>\n",
       "      <th>36969</th>\n",
       "      <td>train_36969</td>\n",
       "      <td>haze</td>\n",
       "      <td>[0, 0, 1, 0]</td>\n",
       "    </tr>\n",
       "    <tr>\n",
       "      <th>23610</th>\n",
       "      <td>train_23610</td>\n",
       "      <td>clear</td>\n",
       "      <td>[1, 0, 0, 0]</td>\n",
       "    </tr>\n",
       "    <tr>\n",
       "      <th>3579</th>\n",
       "      <td>train_3579</td>\n",
       "      <td>partly_cloudy</td>\n",
       "      <td>[0, 1, 0, 0]</td>\n",
       "    </tr>\n",
       "    <tr>\n",
       "      <th>8046</th>\n",
       "      <td>train_8046</td>\n",
       "      <td>partly_cloudy</td>\n",
       "      <td>[0, 1, 0, 0]</td>\n",
       "    </tr>\n",
       "    <tr>\n",
       "      <th>33818</th>\n",
       "      <td>train_33818</td>\n",
       "      <td>clear</td>\n",
       "      <td>[1, 0, 0, 0]</td>\n",
       "    </tr>\n",
       "    <tr>\n",
       "      <th>7275</th>\n",
       "      <td>train_7275</td>\n",
       "      <td>clear</td>\n",
       "      <td>[1, 0, 0, 0]</td>\n",
       "    </tr>\n",
       "    <tr>\n",
       "      <th>24411</th>\n",
       "      <td>train_24411</td>\n",
       "      <td>partly_cloudy</td>\n",
       "      <td>[0, 1, 0, 0]</td>\n",
       "    </tr>\n",
       "    <tr>\n",
       "      <th>27525</th>\n",
       "      <td>train_27525</td>\n",
       "      <td>clear</td>\n",
       "      <td>[1, 0, 0, 0]</td>\n",
       "    </tr>\n",
       "    <tr>\n",
       "      <th>36895</th>\n",
       "      <td>train_36895</td>\n",
       "      <td>partly_cloudy</td>\n",
       "      <td>[0, 1, 0, 0]</td>\n",
       "    </tr>\n",
       "    <tr>\n",
       "      <th>6853</th>\n",
       "      <td>train_6853</td>\n",
       "      <td>partly_cloudy</td>\n",
       "      <td>[0, 1, 0, 0]</td>\n",
       "    </tr>\n",
       "    <tr>\n",
       "      <th>2083</th>\n",
       "      <td>train_2083</td>\n",
       "      <td>partly_cloudy</td>\n",
       "      <td>[0, 1, 0, 0]</td>\n",
       "    </tr>\n",
       "    <tr>\n",
       "      <th>1554</th>\n",
       "      <td>train_1554</td>\n",
       "      <td>clear</td>\n",
       "      <td>[1, 0, 0, 0]</td>\n",
       "    </tr>\n",
       "    <tr>\n",
       "      <th>32940</th>\n",
       "      <td>train_32940</td>\n",
       "      <td>clear</td>\n",
       "      <td>[1, 0, 0, 0]</td>\n",
       "    </tr>\n",
       "    <tr>\n",
       "      <th>9601</th>\n",
       "      <td>train_9601</td>\n",
       "      <td>clear</td>\n",
       "      <td>[1, 0, 0, 0]</td>\n",
       "    </tr>\n",
       "    <tr>\n",
       "      <th>18744</th>\n",
       "      <td>train_18744</td>\n",
       "      <td>partly_cloudy</td>\n",
       "      <td>[0, 1, 0, 0]</td>\n",
       "    </tr>\n",
       "    <tr>\n",
       "      <th>35176</th>\n",
       "      <td>train_35176</td>\n",
       "      <td>partly_cloudy</td>\n",
       "      <td>[0, 1, 0, 0]</td>\n",
       "    </tr>\n",
       "    <tr>\n",
       "      <th>6338</th>\n",
       "      <td>train_6338</td>\n",
       "      <td>clear</td>\n",
       "      <td>[1, 0, 0, 0]</td>\n",
       "    </tr>\n",
       "    <tr>\n",
       "      <th>24598</th>\n",
       "      <td>train_24598</td>\n",
       "      <td>clear</td>\n",
       "      <td>[1, 0, 0, 0]</td>\n",
       "    </tr>\n",
       "    <tr>\n",
       "      <th>18737</th>\n",
       "      <td>train_18737</td>\n",
       "      <td>clear</td>\n",
       "      <td>[1, 0, 0, 0]</td>\n",
       "    </tr>\n",
       "    <tr>\n",
       "      <th>26767</th>\n",
       "      <td>train_26767</td>\n",
       "      <td>clear</td>\n",
       "      <td>[1, 0, 0, 0]</td>\n",
       "    </tr>\n",
       "    <tr>\n",
       "      <th>24701</th>\n",
       "      <td>train_24701</td>\n",
       "      <td>partly_cloudy</td>\n",
       "      <td>[0, 1, 0, 0]</td>\n",
       "    </tr>\n",
       "    <tr>\n",
       "      <th>31912</th>\n",
       "      <td>train_31912</td>\n",
       "      <td>partly_cloudy</td>\n",
       "      <td>[0, 1, 0, 0]</td>\n",
       "    </tr>\n",
       "    <tr>\n",
       "      <th>29008</th>\n",
       "      <td>train_29008</td>\n",
       "      <td>clear</td>\n",
       "      <td>[1, 0, 0, 0]</td>\n",
       "    </tr>\n",
       "    <tr>\n",
       "      <th>4862</th>\n",
       "      <td>train_4862</td>\n",
       "      <td>clear</td>\n",
       "      <td>[1, 0, 0, 0]</td>\n",
       "    </tr>\n",
       "    <tr>\n",
       "      <th>11111</th>\n",
       "      <td>train_11111</td>\n",
       "      <td>partly_cloudy</td>\n",
       "      <td>[0, 1, 0, 0]</td>\n",
       "    </tr>\n",
       "    <tr>\n",
       "      <th>26710</th>\n",
       "      <td>train_26710</td>\n",
       "      <td>partly_cloudy</td>\n",
       "      <td>[0, 1, 0, 0]</td>\n",
       "    </tr>\n",
       "    <tr>\n",
       "      <th>9286</th>\n",
       "      <td>train_9286</td>\n",
       "      <td>clear</td>\n",
       "      <td>[1, 0, 0, 0]</td>\n",
       "    </tr>\n",
       "    <tr>\n",
       "      <th>13735</th>\n",
       "      <td>train_13735</td>\n",
       "      <td>clear</td>\n",
       "      <td>[1, 0, 0, 0]</td>\n",
       "    </tr>\n",
       "  </tbody>\n",
       "</table>\n",
       "<p>200 rows × 3 columns</p>\n",
       "</div>"
      ],
      "text/plain": [
       "        image_name            tags           vec\n",
       "19055  train_19055          clear   [1, 0, 0, 0]\n",
       "26616  train_26616          clear   [1, 0, 0, 0]\n",
       "699      train_699          clear   [1, 0, 0, 0]\n",
       "34523  train_34523          clear   [1, 0, 0, 0]\n",
       "33034  train_33034          clear   [1, 0, 0, 0]\n",
       "10834  train_10834           haze   [0, 0, 1, 0]\n",
       "39337  train_39337          clear   [1, 0, 0, 0]\n",
       "28127  train_28127          clear   [1, 0, 0, 0]\n",
       "12584  train_12584          clear   [1, 0, 0, 0]\n",
       "1815    train_1815          clear   [1, 0, 0, 0]\n",
       "29065  train_29065          clear   [1, 0, 0, 0]\n",
       "39896  train_39896          clear   [1, 0, 0, 0]\n",
       "8241    train_8241           haze   [0, 0, 1, 0]\n",
       "16730  train_16730          clear   [1, 0, 0, 0]\n",
       "39296  train_39296          clear   [1, 0, 0, 0]\n",
       "12658  train_12658          clear   [1, 0, 0, 0]\n",
       "20842  train_20842          clear   [1, 0, 0, 0]\n",
       "34801  train_34801          clear   [1, 0, 0, 0]\n",
       "34434  train_34434          clear   [1, 0, 0, 0]\n",
       "40408  train_40408          clear   [1, 0, 0, 0]\n",
       "28137  train_28137          clear   [1, 0, 0, 0]\n",
       "22095  train_22095          clear   [1, 0, 0, 0]\n",
       "17152  train_17152          clear   [1, 0, 0, 0]\n",
       "23404  train_23404  partly_cloudy   [0, 1, 0, 0]\n",
       "4841    train_4841          clear   [1, 0, 0, 0]\n",
       "6878    train_6878  partly_cloudy   [0, 1, 0, 0]\n",
       "26392  train_26392  partly_cloudy   [0, 1, 0, 0]\n",
       "28472  train_28472          clear   [1, 0, 0, 0]\n",
       "24266  train_24266          clear   [1, 0, 0, 0]\n",
       "36300  train_36300           haze   [0, 0, 1, 0]\n",
       "...            ...             ...           ...\n",
       "23415  train_23415          clear   [1, 0, 0, 0]\n",
       "24068  train_24068          clear   [1, 0, 0, 0]\n",
       "36969  train_36969           haze   [0, 0, 1, 0]\n",
       "23610  train_23610          clear   [1, 0, 0, 0]\n",
       "3579    train_3579  partly_cloudy   [0, 1, 0, 0]\n",
       "8046    train_8046  partly_cloudy   [0, 1, 0, 0]\n",
       "33818  train_33818          clear   [1, 0, 0, 0]\n",
       "7275    train_7275          clear   [1, 0, 0, 0]\n",
       "24411  train_24411  partly_cloudy   [0, 1, 0, 0]\n",
       "27525  train_27525          clear   [1, 0, 0, 0]\n",
       "36895  train_36895  partly_cloudy   [0, 1, 0, 0]\n",
       "6853    train_6853  partly_cloudy   [0, 1, 0, 0]\n",
       "2083    train_2083  partly_cloudy   [0, 1, 0, 0]\n",
       "1554    train_1554          clear   [1, 0, 0, 0]\n",
       "32940  train_32940          clear   [1, 0, 0, 0]\n",
       "9601    train_9601          clear   [1, 0, 0, 0]\n",
       "18744  train_18744  partly_cloudy   [0, 1, 0, 0]\n",
       "35176  train_35176  partly_cloudy   [0, 1, 0, 0]\n",
       "6338    train_6338          clear   [1, 0, 0, 0]\n",
       "24598  train_24598          clear   [1, 0, 0, 0]\n",
       "18737  train_18737          clear   [1, 0, 0, 0]\n",
       "26767  train_26767          clear   [1, 0, 0, 0]\n",
       "24701  train_24701  partly_cloudy   [0, 1, 0, 0]\n",
       "31912  train_31912  partly_cloudy   [0, 1, 0, 0]\n",
       "29008  train_29008          clear   [1, 0, 0, 0]\n",
       "4862    train_4862          clear   [1, 0, 0, 0]\n",
       "11111  train_11111  partly_cloudy   [0, 1, 0, 0]\n",
       "26710  train_26710  partly_cloudy   [0, 1, 0, 0]\n",
       "9286    train_9286          clear   [1, 0, 0, 0]\n",
       "13735  train_13735          clear   [1, 0, 0, 0]\n",
       "\n",
       "[200 rows x 3 columns]"
      ]
     },
     "execution_count": 23,
     "metadata": {},
     "output_type": "execute_result"
    }
   ],
   "source": [
    "pld200_weather.train_df"
   ]
  },
  {
   "cell_type": "markdown",
   "metadata": {},
   "source": [
    "# Rare Labels"
   ]
  },
  {
   "cell_type": "code",
   "execution_count": null,
   "metadata": {
    "collapsed": true
   },
   "outputs": [],
   "source": [
    "labels_df=pd.read_csv[DATA_DIR+'/train.csv']\n",
    "\n",
    "rare_labels = [l for l in label_list if labels_df[label_list].sum()[l] < 2000]"
   ]
  }
 ],
 "metadata": {
  "kernelspec": {
   "display_name": "Python 3",
   "language": "python",
   "name": "python3"
  },
  "language_info": {
   "codemirror_mode": {
    "name": "ipython",
    "version": 3
   },
   "file_extension": ".py",
   "mimetype": "text/x-python",
   "name": "python",
   "nbconvert_exporter": "python",
   "pygments_lexer": "ipython3",
   "version": "3.6.0"
  }
 },
 "nbformat": 4,
 "nbformat_minor": 2
}
